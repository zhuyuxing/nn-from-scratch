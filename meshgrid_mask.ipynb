{
 "cells": [
  {
   "cell_type": "code",
   "execution_count": 23,
   "metadata": {
    "collapsed": false
   },
   "outputs": [
    {
     "data": {
      "text/plain": [
       "<matplotlib.image.AxesImage at 0x1ea419570b8>"
      ]
     },
     "execution_count": 23,
     "metadata": {},
     "output_type": "execute_result"
    },
    {
     "data": {
      "image/png": "[encoded data removed]",
      "text/plain": [
       "<matplotlib.figure.Figure at 0x1ea3e95aa58>"
      ]
     },
     "metadata": {},
     "output_type": "display_data"
    }
   ],
   "source": [
    "import numpy\n",
    "\n",
    "all_points = numpy.random.random((100, 100))  # Input array\n",
    "\n",
    "# Size of your array of points all_points:\n",
    "(image_size_x, image_size_y) = all_points.shape\n",
    "\n",
    "# Disk definition:\n",
    "(center_x, center_y) = (50, 50)\n",
    "radius = 10\n",
    "\n",
    "x_grid, y_grid = numpy.meshgrid(numpy.arange(image_size_x), numpy.arange(image_size_y))#————生成了（x, y）二维格网\n",
    "                               \n",
    "# Array of booleans with the disk shape\n",
    "disk = ((x_grid-center_x)**2 + (y_grid-center_y)**2) <= radius**2 # ————disk 是距离中心格网点（center_x, center_y)  小于等于 radius**2（x, y）\n",
    "\n",
    "# You can now do all sorts of things with the mask \"disk\":\n",
    "\n",
    "# For instance, the following array has only 317 points (about pi*radius**2):\n",
    "points_in_disk = all_points[disk]\n",
    "\n",
    "# You can also use masked arrays:\n",
    "points_in_circle2 = numpy.ma.masked_array(all_points, ~disk)  #————数据掩膜处理\n",
    "\n",
    "from matplotlib import pyplot\n",
    "import matplotlib\n",
    "%matplotlib inline\n",
    "matplotlib.rcParams['figure.figsize'] = (10.0, 8.0)\n",
    "pyplot.imshow(points_in_circle2) "
   ]
  },
  {
   "cell_type": "code",
   "execution_count": 1,
   "metadata": {
    "collapsed": true
   },
   "outputs": [],
   "source": [
    "import numpy\n",
    "\n",
    "all_points = numpy.random.random((1000, 1000))  # Input array\n",
    "\n",
    "# Size of your array of points all_points:\n",
    "(image_size_x, image_size_y) = all_points.shape\n",
    "\n",
    "# Disk definition:\n",
    "(center_x, center_y) = (500, 500)\n",
    "radius = 10\n",
    "\n",
    "x_grid, y_grid = numpy.meshgrid(numpy.arange(image_size_x), numpy.arange(image_size_y))#————生成了（x, y）二维格网"
   ]
  },
  {
   "cell_type": "code",
   "execution_count": 3,
   "metadata": {
    "collapsed": false
   },
   "outputs": [
    {
     "data": {
      "text/plain": [
       "array([[False, False, False, ..., False, False, False],\n",
       "       [False, False, False, ..., False, False, False],\n",
       "       [False, False, False, ..., False, False, False],\n",
       "       ..., \n",
       "       [False, False, False, ..., False, False, False],\n",
       "       [False, False, False, ..., False, False, False],\n",
       "       [False, False, False, ..., False, False, False]], dtype=bool)"
      ]
     },
     "execution_count": 3,
     "metadata": {},
     "output_type": "execute_result"
    }
   ],
   "source": [
    "disk = ((x_grid-center_x)**2 + (y_grid-center_y)**2) <= radius**2 # ————disk 是距离中心格网点（center_x, center_y)  小于等于 radius**2（x, y）\n",
    "disk"
   ]
  },
  {
   "cell_type": "code",
   "execution_count": 14,
   "metadata": {
    "collapsed": false
   },
   "outputs": [
    {
     "data": {
      "text/plain": [
       "masked_array(data =\n",
       " [[-- -- -- ..., -- -- --]\n",
       " [-- -- -- ..., -- -- --]\n",
       " [-- -- -- ..., -- -- --]\n",
       " ..., \n",
       " [-- -- -- ..., -- -- --]\n",
       " [-- -- -- ..., -- -- --]\n",
       " [-- -- -- ..., -- -- --]],\n",
       "             mask =\n",
       " [[ True  True  True ...,  True  True  True]\n",
       " [ True  True  True ...,  True  True  True]\n",
       " [ True  True  True ...,  True  True  True]\n",
       " ..., \n",
       " [ True  True  True ...,  True  True  True]\n",
       " [ True  True  True ...,  True  True  True]\n",
       " [ True  True  True ...,  True  True  True]],\n",
       "       fill_value = 1e+20)"
      ]
     },
     "execution_count": 14,
     "metadata": {},
     "output_type": "execute_result"
    }
   ],
   "source": [
    "points_in_circle2"
   ]
  },
  {
   "cell_type": "code",
   "execution_count": 15,
   "metadata": {
    "collapsed": false
   },
   "outputs": [
    {
     "data": {
      "text/plain": [
       "array([[ 0.76165768,  0.72892312,  0.94006825, ...,  0.92118847,\n",
       "         0.68999456,  0.83735775],\n",
       "       [ 0.35981401,  0.65509757,  0.8084814 , ...,  0.43060225,\n",
       "         0.70004411,  0.78573034],\n",
       "       [ 0.12941957,  0.21968205,  0.66680893, ...,  0.39346614,\n",
       "         0.00214381,  0.95047437],\n",
       "       ..., \n",
       "       [ 0.33162503,  0.89113112,  0.69784689, ...,  0.46991942,\n",
       "         0.40962293,  0.15620929],\n",
       "       [ 0.87473766,  0.12632268,  0.35389282, ...,  0.95441973,\n",
       "         0.68864983,  0.27141007],\n",
       "       [ 0.06206853,  0.04185536,  0.68600803, ...,  0.77948404,\n",
       "         0.85764024,  0.86024749]])"
      ]
     },
     "execution_count": 15,
     "metadata": {},
     "output_type": "execute_result"
    }
   ],
   "source": [
    "points_in_circle2.data"
   ]
  },
  {
   "cell_type": "code",
   "execution_count": 16,
   "metadata": {
    "collapsed": true
   },
   "outputs": [],
   "source": [
    "import numpy as np\n",
    "data = np.array([1,2,3,-1,4])\n",
    "k = np.ma.masked_array(data,[0,0,0,1,0])"
   ]
  },
  {
   "cell_type": "code",
   "execution_count": 19,
   "metadata": {
    "collapsed": false
   },
   "outputs": [
    {
     "data": {
      "text/plain": [
       "2.5"
      ]
     },
     "execution_count": 19,
     "metadata": {},
     "output_type": "execute_result"
    }
   ],
   "source": [
    "k.mean()"
   ]
  },
  {
   "cell_type": "code",
   "execution_count": 20,
   "metadata": {
    "collapsed": false
   },
   "outputs": [
    {
     "data": {
      "text/plain": [
       "masked_array(data = [1.0 -- 3.0 4.0],\n",
       "             mask = [False  True False False],\n",
       "       fill_value = 1e+20)"
      ]
     },
     "execution_count": 20,
     "metadata": {},
     "output_type": "execute_result"
    }
   ],
   "source": [
    "z = np.ma.masked_values([1.0, 1.e20, 3.0, 4.0], 1.e20);z"
   ]
  },
  {
   "cell_type": "code",
   "execution_count": 21,
   "metadata": {
    "collapsed": false
   },
   "outputs": [
    {
     "data": {
      "text/plain": [
       "array([-2, -1, -2, -2], dtype=int32)"
      ]
     },
     "execution_count": 21,
     "metadata": {},
     "output_type": "execute_result"
    }
   ],
   "source": [
    "d = np.array([1,0,1,1]);~d"
   ]
  },
  {
   "cell_type": "code",
   "execution_count": 22,
   "metadata": {
    "collapsed": false
   },
   "outputs": [
    {
     "data": {
      "text/plain": [
       "array([False,  True, False,  True], dtype=bool)"
      ]
     },
     "execution_count": 22,
     "metadata": {},
     "output_type": "execute_result"
    }
   ],
   "source": [
    "d = np.array([True,False,True,False]);~d"
   ]
  },
  {
   "cell_type": "code",
   "execution_count": null,
   "metadata": {
    "collapsed": true
   },
   "outputs": [],
   "source": []
  }
 ],
 "metadata": {
  "kernelspec": {
   "display_name": "Python 3",
   "language": "python",
   "name": "python3"
  },
  "language_info": {
   "codemirror_mode": {
    "name": "ipython",
    "version": 3
   },
   "file_extension": ".py",
   "mimetype": "text/x-python",
   "name": "python",
   "nbconvert_exporter": "python",
   "pygments_lexer": "ipython3",
   "version": "3.6.0"
  }
 },
 "nbformat": 4,
 "nbformat_minor": 2
}
